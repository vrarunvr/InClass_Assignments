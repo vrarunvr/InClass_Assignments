{
  "nbformat": 4,
  "nbformat_minor": 0,
  "metadata": {
    "colab": {
      "name": "Email validation (Arun V R).ipynb",
      "provenance": [],
      "authorship_tag": "ABX9TyPlXouC9YxsGcsDDFxciPJ+",
      "include_colab_link": true
    },
    "kernelspec": {
      "name": "python3",
      "display_name": "Python 3"
    },
    "language_info": {
      "name": "python"
    }
  },
  "cells": [
    {
      "cell_type": "markdown",
      "metadata": {
        "id": "view-in-github",
        "colab_type": "text"
      },
      "source": [
        "<a href=\"https://colab.research.google.com/github/vrarunvr/InClass_Assignments/blob/main/Email_validation_(Arun_V_R).ipynb\" target=\"_parent\"><img src=\"https://colab.research.google.com/assets/colab-badge.svg\" alt=\"Open In Colab\"/></a>"
      ]
    },
    {
      "cell_type": "markdown",
      "metadata": {
        "id": "mGPmg5X0LJMu"
      },
      "source": [
        "***Program to check whether the entered email is valid***"
      ]
    },
    {
      "cell_type": "code",
      "metadata": {
        "id": "UngpK5xHLKJl"
      },
      "source": [
        "import re\n",
        "from re import match\n",
        "\n",
        "def searchemail( mID ):\n",
        "  if re.search(\"[a-zA-Z]+[.][^\\S\\n\\t]*[_a-zA-Z0-9]*@[a-z]*[.]+[a-z]\",mID):\n",
        "    print(\"It is a valid email\");\n",
        "  else:\n",
        "    print(\"Invalid email ID\")\n",
        "  return;\n",
        "mID=input(\"Enter email ID: \")\n",
        "searchemail(mID);"
      ],
      "execution_count": null,
      "outputs": []
    }
  ]
}