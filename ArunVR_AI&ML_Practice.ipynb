{
  "nbformat": 4,
  "nbformat_minor": 0,
  "metadata": {
    "colab": {
      "name": "ArunVR_AI&ML_Practice.ipynb",
      "provenance": [],
      "collapsed_sections": []
    },
    "kernelspec": {
      "name": "python3",
      "display_name": "Python 3"
    },
    "language_info": {
      "name": "python"
    }
  },
  "cells": [
    {
      "cell_type": "code",
      "metadata": {
        "colab": {
          "base_uri": "https://localhost:8080/"
        },
        "id": "YBx3nDbclvdR",
        "outputId": "15becfa6-629e-4e7d-cb85-d58c1710cbc1"
      },
      "source": [
        "#In Class Practice Session - III (Arun V R)\n",
        "#Q1. WAP to check if the given number is a palindrome\n",
        "\n",
        "def IsPalindrome(num) :\n",
        "    temp = num\n",
        "    numulta = 0\n",
        "    while num > 0:\n",
        "        digit = num%10\n",
        "        numulta = numulta * 10 + digit\n",
        "        num = num // 10\n",
        "    if temp == numulta :\n",
        "        print (\"The number is a Palindrome\")\n",
        "    else :\n",
        "        print (\"The number is not a Palindrome\")\n",
        "x = int(input(\"Number please : \"))\n",
        "if x<=0 :\n",
        "  print (\"Please enter a number > 0\")\n",
        "elif x>0 :\n",
        "    IsPalindrome(x)"
      ],
      "execution_count": 13,
      "outputs": [
        {
          "output_type": "stream",
          "name": "stdout",
          "text": [
            "Number please : 101\n",
            "The number is a Palindrome\n"
          ]
        }
      ]
    }
  ]
}