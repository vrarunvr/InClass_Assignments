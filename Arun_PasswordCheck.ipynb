{
  "nbformat": 4,
  "nbformat_minor": 0,
  "metadata": {
    "colab": {
      "name": "Arun_PasswordCheck.ipynb",
      "provenance": [],
      "collapsed_sections": [],
      "authorship_tag": "ABX9TyN/maq48o1SoeBebq8T3eyK",
      "include_colab_link": true
    },
    "kernelspec": {
      "name": "python3",
      "display_name": "Python 3"
    },
    "language_info": {
      "name": "python"
    }
  },
  "cells": [
    {
      "cell_type": "markdown",
      "metadata": {
        "id": "view-in-github",
        "colab_type": "text"
      },
      "source": [
        "<a href=\"https://colab.research.google.com/github/vrarunvr/InClass_Assignments/blob/main/Arun_PasswordCheck.ipynb\" target=\"_parent\"><img src=\"https://colab.research.google.com/assets/colab-badge.svg\" alt=\"Open In Colab\"/></a>"
      ]
    },
    {
      "cell_type": "markdown",
      "metadata": {
        "id": "GPa7SjuU4JDk"
      },
      "source": [
        "##**Use regex in Python to verify a user's password**"
      ]
    },
    {
      "cell_type": "code",
      "metadata": {
        "colab": {
          "base_uri": "https://localhost:8080/"
        },
        "id": "6GxdJCqd4J6q",
        "outputId": "870b0b16-e33f-4d5d-9fcf-22b5e7bb6852"
      },
      "source": [
        "import re\n",
        "from re import search\n",
        "def checkpass(usrpwd):\n",
        "  if len(s)<8:\n",
        "      print(\"Password requires min. 8 characters\")\n",
        "  elif not(re.search(\"[a-z]\",usrpwd)):\n",
        "      print(\"Password requires atleast 1 lower case character\");\n",
        "  elif not(re.search(\"[A-Z]\",usrpwd)):\n",
        "      print(\"Password requires atleast 1 Upper case character\");\n",
        "  elif not(re.search(\"[0-9]\",usrpwd)):\n",
        "      print(\"Password requires atleast 1 digit\");\n",
        "  elif not(re.search(\"[!@#$%^&*+=]\",usrpwd)):\n",
        "      print(\"Password requires atleast 1 special case character\");\n",
        "  else:\n",
        "      print(\"Your password is valid\")\n",
        "usrpwd=input(\"Enter password: \")\n",
        "checkpass(usrpwd);"
      ],
      "execution_count": null,
      "outputs": [
        {
          "output_type": "stream",
          "name": "stdout",
          "text": [
            "Enter password: Arun2345#\n",
            "Your password is valid\n"
          ]
        }
      ]
    },
    {
      "cell_type": "code",
      "metadata": {
        "id": "wtpYyLhL4IQZ"
      },
      "source": [
        ""
      ],
      "execution_count": null,
      "outputs": []
    }
  ]
}