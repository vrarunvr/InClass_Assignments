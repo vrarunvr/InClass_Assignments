{
  "nbformat": 4,
  "nbformat_minor": 0,
  "metadata": {
    "colab": {
      "name": "My Hotel Management System.ipynb",
      "provenance": [],
      "collapsed_sections": [],
      "authorship_tag": "ABX9TyNYzh1SStiVwgVFrewkTofB",
      "include_colab_link": true
    },
    "kernelspec": {
      "name": "python3",
      "display_name": "Python 3"
    },
    "language_info": {
      "name": "python"
    }
  },
  "cells": [
    {
      "cell_type": "markdown",
      "metadata": {
        "id": "view-in-github",
        "colab_type": "text"
      },
      "source": [
        "<a href=\"https://colab.research.google.com/github/vrarunvr/InClass_Assignments/blob/main/Hotel_Management_System.ipynb\" target=\"_parent\"><img src=\"https://colab.research.google.com/assets/colab-badge.svg\" alt=\"Open In Colab\"/></a>"
      ]
    },
    {
      "cell_type": "markdown",
      "metadata": {
        "id": "Mzd6oEY5_4pF"
      },
      "source": [
        "## **Write a Python code to build a Hotel Management System which could perform the following operations**\n",
        "Room Booking, Provide you with Hotel Rooms Info, Room Service, Billing, Record-Keeping."
      ]
    },
    {
      "cell_type": "markdown",
      "metadata": {
        "id": "8sJmES8B_Uuq"
      },
      "source": [
        "**Functions needed**\n",
        "\n",
        "*   Booking() : Book room at hotel\n",
        "*   Room_Service() : Room service for people staying at hotel\n",
        "*   Payment() : Shows total bill of the customer\n",
        "*   Record(): Shows all the booking records in the hotel\n",
        "*   Rooms_Info() : Shows information of all the categories of room\n",
        "*   Restuarant_menu() : Shows food menu\n",
        "*   Pay_For_Food() : Generate bill for food ordered\n",
        "*   Home() : Menu Driven program to run all the functions\n",
        "\n",
        "\n",
        "\n",
        "\n",
        "\n",
        "\n",
        "\n"
      ]
    },
    {
      "cell_type": "markdown",
      "metadata": {
        "id": "X1ixerMzBjYi"
      },
      "source": [
        "##Declaring Global List"
      ]
    },
    {
      "cell_type": "code",
      "metadata": {
        "id": "lCGcB5Z-BmRy"
      },
      "source": [
        "import random\n",
        "from datetime import datetime\n",
        "import re\n",
        "\n",
        "#A Dictionary of Room numbers Booked for categoris 1,2,3,4\n",
        "room_no={1:[],2:[],3:[],4:[]}\n",
        "room_price=[]\n",
        "#Dictionary of bill amount with Customer-Id as key\n",
        "billamounts={}\n",
        "#Dictionary containing all the booking records for every customer-id\n",
        "records={}"
      ],
      "execution_count": 10,
      "outputs": []
    },
    {
      "cell_type": "markdown",
      "metadata": {
        "id": "XltHfdbY4CgO"
      },
      "source": [
        "####Booking Function\n",
        "**Asks for check-in time, check-out time, shows availability and books room**\n",
        "- validates date input with datetime and ensures that checkin date isn't after checout date\n",
        "-Uses RegEx to validate and ensure that name and phone number are entered in correct format\n",
        "-Randomly generates a customer id and allocates a room number\n",
        "-Creates a record once a booking is made"
      ]
    },
    {
      "cell_type": "code",
      "metadata": {
        "id": "kCVFuKBb4Df2"
      },
      "source": [
        "#Booking\n",
        "def Booking():\n",
        "    print(\"When do you want to book?:\")\n",
        "    ci=input(\"Check In-->\")\n",
        "    ci=[int(i) for i in ci.split(\"/\")]\n",
        "    ci=datetime(ci[2],ci[1],ci[0])\n",
        "    co=input(\"Check-out-->\")\n",
        "    ci=[int(i) for i in co.split(\"/\")]\n",
        "    co=datetime(co[2],co[1],co[0])\n",
        "    print(\"SELECT ROOM TYPE:\")\n",
        "    print(\" 1. Standard Non-AC  \\t\\t3500\")\n",
        "    print(\" 2. Standard AC      \\t\\t4000\")\n",
        "    print(\" 3. 3-Bed Non-AC     \\t\\t4500\")\n",
        "    print(\" 4. 3-Bed AC         \\t\\t5000\")\n",
        "    #this Dict contains the prices of hotels\n",
        "    prices={1:3500,2:4000,3:4500,4:5000}\n",
        "    type=int(input(\"Enter Type Code->\"))\n",
        "    try:\n",
        "        #Check if co is before ci\n",
        "        print(\"in try\", co-ci.days>0)\n",
        "        if((co-ci).days>0):\n",
        "            if len(room_no[type])<50:\n",
        "                print(\"Available\")\n",
        "            else:\n",
        "                print(\"Unavailable\")\n",
        "        else:\n",
        "            print(\"Checkout can't be before Checkin\")\n",
        "    except:\n",
        "          print(\"Incorrect date format, Re-enter values\")\n",
        "          Booking()\n",
        "\n",
        "    cname=input(\"Name->\")\n",
        "    #check if name entered in correct format\n",
        "    if not(bool(re.match('[a-zA-Z\\s]+$', cname))):\n",
        "        print(\"Incorrect Format\")\n",
        "        Booking()\n",
        "    cphone=input(\"Phone Number->\")\n",
        "    if not(bool(re.match('^[6-9]{1}[0-9]{9}$', cphone))):\n",
        "        print(\"Incorrect Phone Number\")\n",
        "        Booking()\n",
        "    caddress=input(\"Address->\")\n",
        "    #generates random non repetitive room_no\n",
        "    def room_no_generator():\n",
        "        n=type*100+random.randrange(50)\n",
        "        if (n in room_no[type]):\n",
        "            room_no_generator()\n",
        "        return n\n",
        "    #generates random non repetitive cust id\n",
        "    def cid_generator():\n",
        "        n=type*1000+random.randrange(999)\n",
        "        if (n in records.keys()):\n",
        "            cid_generator()\n",
        "        return n\n",
        "    rn=room_no_generator()\n",
        "    cid=cid_generator()\n",
        "    billamounts[cid]=prices[type]*(co-ci).days\n",
        "    room_no[type].append(rn)\n",
        "    print(\"Room Booked Successfully\")\n",
        "    print(cname,cphone)\n",
        "    print(\"Room:\",rn,\"CustID:\",cid)\n",
        "    print(\"Bill Amount=\",billamounts[cid])\n",
        "    records[cid]=\"Room no\"+str(rn)+\" \"+str(cname)+\" \"+str(phone)"
      ],
      "execution_count": 11,
      "outputs": []
    }
  ]
}